{
 "cells": [
  {
   "cell_type": "markdown",
   "id": "a2316c0e",
   "metadata": {},
   "source": [
    "Q1. How do you comment code in Python? What are the different types of comments?"
   ]
  },
  {
   "cell_type": "code",
   "execution_count": 3,
   "id": "797a5ca0",
   "metadata": {},
   "outputs": [
    {
     "name": "stdout",
     "output_type": "stream",
     "text": [
      "Single line comments using #\n",
      "Multi line comment using '''  using single quotes\n",
      "Multi line comment using using double quotes\n"
     ]
    },
    {
     "data": {
      "text/plain": [
       "'\\nUsing Double \\nQuotes\\n'"
      ]
     },
     "execution_count": 3,
     "metadata": {},
     "output_type": "execute_result"
    }
   ],
   "source": [
    "print(\"Single line comments using #\")\n",
    "#This is type1 comment\n",
    "\n",
    "print(\"Multi line comment using '''  using single quotes\")\n",
    "''' \n",
    "This\n",
    "is\n",
    "Multi line\n",
    "Comment\n",
    "'''\n",
    "\n",
    "print(\"Multi line comment using \"\"\"  \"using double quotes\")\n",
    "\"\"\"\n",
    "Using Double \n",
    "Quotes\n",
    "\"\"\""
   ]
  },
  {
   "cell_type": "code",
   "execution_count": null,
   "id": "da06a91e",
   "metadata": {},
   "outputs": [],
   "source": []
  },
  {
   "cell_type": "markdown",
   "id": "693b94bc",
   "metadata": {},
   "source": [
    "Q2. What are variables in Python? How do you declare and assign values to variables?"
   ]
  },
  {
   "cell_type": "code",
   "execution_count": 4,
   "id": "35b8fe1c",
   "metadata": {},
   "outputs": [
    {
     "name": "stdout",
     "output_type": "stream",
     "text": [
      "10\n",
      "Mani\n"
     ]
    }
   ],
   "source": [
    "'''Variable are containers to store certain values and access them when needed'''\n",
    "\n",
    "#Declaring variables & Assigning vaues\n",
    "var =10 # 10 is int type assigned in var \n",
    "print(var)\n",
    "\n",
    "string = 'Mani'\n",
    "print(string)"
   ]
  },
  {
   "cell_type": "code",
   "execution_count": null,
   "id": "2b9f4cdd",
   "metadata": {},
   "outputs": [],
   "source": []
  },
  {
   "cell_type": "markdown",
   "id": "439f222d",
   "metadata": {},
   "source": [
    "Q3. How do you convert one data type to another in Python?"
   ]
  },
  {
   "cell_type": "code",
   "execution_count": 5,
   "id": "5e49a8d2",
   "metadata": {},
   "outputs": [
    {
     "name": "stdout",
     "output_type": "stream",
     "text": [
      "<class 'int'>\n"
     ]
    }
   ],
   "source": [
    "# To convert one data type to another in Python \n",
    "#We use type conversion\n",
    "\n",
    "a = 10 #Here 10 is of type int\n",
    "print(type(a))"
   ]
  },
  {
   "cell_type": "code",
   "execution_count": 6,
   "id": "c99d2edf",
   "metadata": {},
   "outputs": [
    {
     "data": {
      "text/plain": [
       "str"
      ]
     },
     "execution_count": 6,
     "metadata": {},
     "output_type": "execute_result"
    }
   ],
   "source": [
    "b = str(a) #converting into  to string\n",
    "type(b)"
   ]
  },
  {
   "cell_type": "code",
   "execution_count": 7,
   "id": "1836232a",
   "metadata": {},
   "outputs": [
    {
     "data": {
      "text/plain": [
       "int"
      ]
     },
     "execution_count": 7,
     "metadata": {},
     "output_type": "execute_result"
    }
   ],
   "source": [
    "c = int(b) #Converting back string to int\n",
    "type(c)"
   ]
  },
  {
   "cell_type": "code",
   "execution_count": null,
   "id": "a841e791",
   "metadata": {},
   "outputs": [],
   "source": []
  },
  {
   "cell_type": "markdown",
   "id": "7d1c0102",
   "metadata": {},
   "source": [
    "Q4. How do you write and execute a Python script from the command line?"
   ]
  },
  {
   "cell_type": "code",
   "execution_count": 8,
   "id": "3e0ff7c3",
   "metadata": {},
   "outputs": [
    {
     "name": "stdout",
     "output_type": "stream",
     "text": [
      "Hello Mani\n"
     ]
    }
   ],
   "source": [
    "# Open a Command Prompt or Terminal in our operation system then\n",
    "#Create a Python Script: Which Use a text editor or code editor to create a Python script next...\n",
    "\n",
    "print(\"Hello Mani\") #Save the script with .py extension.I named as myscript.py:\n",
    "\n",
    "#Then Navigate to the Script's Directory: Using cd command (change directory) where our Python script is located after that\n",
    "#Execute Python Script using: python3 myscript.py (file name)\n",
    "\n",
    "#After running the script, we can see the output in the command prompt or terminal."
   ]
  },
  {
   "cell_type": "code",
   "execution_count": null,
   "id": "8023af90",
   "metadata": {},
   "outputs": [],
   "source": []
  },
  {
   "cell_type": "markdown",
   "id": "c3620d53",
   "metadata": {},
   "source": [
    "Q5. Given a list my_list = [1, 2, 3, 4, 5], write the code to slice the list and obtain the sub-list [2, 3]"
   ]
  },
  {
   "cell_type": "code",
   "execution_count": 9,
   "id": "48a15d1c",
   "metadata": {},
   "outputs": [
    {
     "data": {
      "text/plain": [
       "[2, 3]"
      ]
     },
     "execution_count": 9,
     "metadata": {},
     "output_type": "execute_result"
    }
   ],
   "source": [
    "my_list = [1, 2, 3, 4, 5]\n",
    "my_list[1:3]"
   ]
  },
  {
   "cell_type": "code",
   "execution_count": null,
   "id": "12493885",
   "metadata": {},
   "outputs": [],
   "source": []
  },
  {
   "cell_type": "markdown",
   "id": "e0c798d8",
   "metadata": {},
   "source": [
    "Q6. What is a complex number in mathematics, and how is it represented in Python?"
   ]
  },
  {
   "cell_type": "code",
   "execution_count": 12,
   "id": "f51c90d9",
   "metadata": {},
   "outputs": [
    {
     "name": "stdout",
     "output_type": "stream",
     "text": [
      "(3+2j)\n",
      "(1.5-0.5j)\n"
     ]
    }
   ],
   "source": [
    "#In mathematics, complex number is a number that contains both a real and an imaginary part. It is expressed in the form a + bi, where:\n",
    "\n",
    "# a : is the real part, and it can be any real number.\n",
    "# b : represents the imaginary part\n",
    "\n",
    "#In pythn it is represented as:\n",
    "a = 3 + 2j     #Small j    \n",
    "b = 1.5 - 0.5J # Capital J\n",
    "#Only j should be in imaginary part, no other char in that place (Gives SyntaxError)\n",
    "print(a)\n",
    "print(b)\n"
   ]
  },
  {
   "cell_type": "code",
   "execution_count": null,
   "id": "14299fba",
   "metadata": {},
   "outputs": [],
   "source": []
  },
  {
   "cell_type": "markdown",
   "id": "53e31a3e",
   "metadata": {},
   "source": [
    "Q7. What is the correct way to declare a variable named age and assign the value 25 to it?"
   ]
  },
  {
   "cell_type": "code",
   "execution_count": 13,
   "id": "9c7b9cdd",
   "metadata": {},
   "outputs": [
    {
     "name": "stdout",
     "output_type": "stream",
     "text": [
      "25\n"
     ]
    }
   ],
   "source": [
    "age = 25\n",
    "print(age)"
   ]
  },
  {
   "cell_type": "code",
   "execution_count": null,
   "id": "5ac66fd7",
   "metadata": {},
   "outputs": [],
   "source": []
  },
  {
   "cell_type": "markdown",
   "id": "ebaa213a",
   "metadata": {},
   "source": [
    "Q8. Declare a variable named price and assign the value 9.99 to it. What data type does this variable belong to?"
   ]
  },
  {
   "cell_type": "code",
   "execution_count": 15,
   "id": "69589fc9",
   "metadata": {},
   "outputs": [
    {
     "name": "stdout",
     "output_type": "stream",
     "text": [
      "Type of Price is: <class 'float'>\n"
     ]
    }
   ],
   "source": [
    "price = 9.99\n",
    "print(\"Type of Price is:\", type(price))"
   ]
  },
  {
   "cell_type": "code",
   "execution_count": null,
   "id": "26d437a4",
   "metadata": {},
   "outputs": [],
   "source": []
  },
  {
   "cell_type": "markdown",
   "id": "a37e3fcd",
   "metadata": {},
   "source": [
    "Q9. Create a variable named name and assign your full name to it as a string. How would you print the value of this variable?"
   ]
  },
  {
   "cell_type": "code",
   "execution_count": 18,
   "id": "8feb8885",
   "metadata": {},
   "outputs": [
    {
     "name": "stdout",
     "output_type": "stream",
     "text": [
      "ManiKanta Reddy\n",
      "M\n",
      "a\n",
      "n\n",
      "i\n",
      "K\n",
      "a\n",
      "n\n",
      "t\n",
      "a\n",
      " \n",
      "R\n",
      "e\n",
      "d\n",
      "d\n",
      "y\n"
     ]
    }
   ],
   "source": [
    "name = 'ManiKanta Reddy'\n",
    "print(name)\n",
    "for i in name:\n",
    "    print(i)"
   ]
  },
  {
   "cell_type": "code",
   "execution_count": null,
   "id": "65ad59da",
   "metadata": {},
   "outputs": [],
   "source": []
  },
  {
   "cell_type": "markdown",
   "id": "fa9a2f44",
   "metadata": {},
   "source": [
    "Q10. Given the string \"Hello, World!\", extract the substring \"World\""
   ]
  },
  {
   "cell_type": "code",
   "execution_count": 20,
   "id": "15666702",
   "metadata": {},
   "outputs": [
    {
     "name": "stdout",
     "output_type": "stream",
     "text": [
      "Sub String is:  World\n"
     ]
    }
   ],
   "source": [
    "string = \"Hello, World!\"\n",
    "print( \"Sub String is: \",string[7:12])"
   ]
  },
  {
   "cell_type": "code",
   "execution_count": null,
   "id": "d8fa1a92",
   "metadata": {},
   "outputs": [],
   "source": []
  },
  {
   "cell_type": "markdown",
   "id": "744f5f59",
   "metadata": {},
   "source": [
    "Q11. Create a variable named \"is_student\" and assign it a boolean value indicating whether you are \n",
    "currently a student or not."
   ]
  },
  {
   "cell_type": "code",
   "execution_count": 21,
   "id": "267c8421",
   "metadata": {},
   "outputs": [
    {
     "name": "stdout",
     "output_type": "stream",
     "text": [
      "I am Student\n"
     ]
    }
   ],
   "source": [
    "is_student = True\n",
    "\n",
    "if is_student:\n",
    "    print(\"I am Student\")\n",
    "else:\n",
    "    print(\"I am not a Student\")"
   ]
  },
  {
   "cell_type": "code",
   "execution_count": null,
   "id": "612e84f1",
   "metadata": {},
   "outputs": [],
   "source": []
  }
 ],
 "metadata": {
  "kernelspec": {
   "display_name": "Python 3 (ipykernel)",
   "language": "python",
   "name": "python3"
  },
  "language_info": {
   "codemirror_mode": {
    "name": "ipython",
    "version": 3
   },
   "file_extension": ".py",
   "mimetype": "text/x-python",
   "name": "python",
   "nbconvert_exporter": "python",
   "pygments_lexer": "ipython3",
   "version": "3.11.4"
  }
 },
 "nbformat": 4,
 "nbformat_minor": 5
}
